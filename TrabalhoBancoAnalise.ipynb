{
  "nbformat": 4,
  "nbformat_minor": 0,
  "metadata": {
    "colab": {
      "provenance": [],
      "authorship_tag": "ABX9TyNirbQw5RT6iOalXwpsg7Vb"
    },
    "kernelspec": {
      "name": "python3",
      "display_name": "Python 3"
    },
    "language_info": {
      "name": "python"
    }
  },
  "cells": [
    {
      "cell_type": "code",
      "execution_count": 2,
      "metadata": {
        "colab": {
          "base_uri": "https://localhost:8080/"
        },
        "id": "hUa9W6r7BWab",
        "outputId": "6bd67f09-6351-4cb8-ca63-b3d73a10657a"
      },
      "outputs": [
        {
          "output_type": "stream",
          "name": "stdout",
          "text": [
            "Mounted at /content/drive\n"
          ]
        }
      ],
      "source": [
        "#Pegando a base do drive!\n",
        "\n",
        "from google.colab import drive\n",
        "drive.mount('/content/drive')\n",
        "\n",
        "filename = '/content/drive/MyDrive/06_rotatividade_clientes_bancários.csv'"
      ]
    },
    {
      "cell_type": "code",
      "source": [
        "#Commits\n",
        "#Mudanças\n",
        "\n",
        "!git config --global user.email \"marques.soares@aluno.ifsp.edu.br\"\n",
        "!git config --global user.name \"GuiIfsp\"\n",
        "\n",
        "!git push"
      ],
      "metadata": {
        "colab": {
          "base_uri": "https://localhost:8080/"
        },
        "id": "chfOouaCCswe",
        "outputId": "db3059db-2904-4919-e3de-3ca841904293"
      },
      "execution_count": 3,
      "outputs": [
        {
          "output_type": "stream",
          "name": "stdout",
          "text": [
            "fatal: not a git repository (or any of the parent directories): .git\n"
          ]
        }
      ]
    }
  ]
}